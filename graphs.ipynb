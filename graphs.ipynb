{
 "cells": [
  {
   "attachments": {},
   "cell_type": "markdown",
   "metadata": {},
   "source": [
    "# Graphs"
   ]
  },
  {
   "attachments": {},
   "cell_type": "markdown",
   "metadata": {},
   "source": [
    "#### Import Libraries"
   ]
  },
  {
   "cell_type": "code",
   "execution_count": 2,
   "metadata": {},
   "outputs": [],
   "source": [
    "%matplotlib inline\n",
    "\n",
    "from sklearn.ensemble import GradientBoostingClassifier\n",
    "from sklearn.model_selection import train_test_split\n",
    "from sklearn.model_selection import StratifiedKFold\n",
    "from sklearn.model_selection import cross_val_score\n",
    "from sklearn.model_selection import cross_validate\n",
    "from sklearn.metrics import accuracy_score\n",
    "from sklearn import preprocessing\n",
    "import matplotlib.pyplot as plt\n",
    "from sklearn import svm\n",
    "import xgboost as xgb\n",
    "import pandas as pd\n",
    "import numpy as np\n",
    "import os"
   ]
  },
  {
   "attachments": {},
   "cell_type": "markdown",
   "metadata": {},
   "source": [
    "### Read the dataset"
   ]
  },
  {
   "cell_type": "code",
   "execution_count": 40,
   "metadata": {},
   "outputs": [],
   "source": [
    "df = pd.read_csv(\"merged_comp_data.csv\")\n",
    "\n",
    "df = df.fillna(0)"
   ]
  },
  {
   "attachments": {},
   "cell_type": "markdown",
   "metadata": {},
   "source": [
    "### Information about dataset"
   ]
  },
  {
   "cell_type": "code",
   "execution_count": 41,
   "metadata": {},
   "outputs": [
    {
     "name": "stdout",
     "output_type": "stream",
     "text": [
      "There are 12 languages in dataset\n",
      "The languages in dataset are: ['du' 'gr' 'he' 'it' 'no' 'ee' 'fi' 'ge' 'en' 'ru' 'sp' 'tr']\n",
      "There are 450 participants in dataset\n"
     ]
    }
   ],
   "source": [
    "# list of values of 'lang' column\n",
    "languages = df.lang.unique()\n",
    "\n",
    "# list of values of 'uniform_id' column\n",
    "participants = df.uniform_id.unique()\n",
    "\n",
    "# show the lenght of the language list\n",
    "print(f'There are {len(languages)} languages in dataset')\n",
    "\n",
    "# show the values of the languages\n",
    "print(f'The languages in dataset are: {languages}')\n",
    "\n",
    "# show the lenght of the participant list\n",
    "print(f'There are {len(participants)} participants in dataset')\n"
   ]
  },
  {
   "attachments": {},
   "cell_type": "markdown",
   "metadata": {},
   "source": [
    "### Categorize the languages"
   ]
  },
  {
   "cell_type": "code",
   "execution_count": 42,
   "metadata": {},
   "outputs": [
    {
     "name": "stdout",
     "output_type": "stream",
     "text": [
      "Total language dataframes: 12\n"
     ]
    }
   ],
   "source": [
    "# create df for du language\n",
    "du_lang = df[df['lang'] == 'du']\n",
    "\n",
    "# create df for gr language\n",
    "gr_lang = df[df['lang'] == 'gr']\n",
    "\n",
    "# create df for he language\n",
    "he_lang = df[df['lang'] == 'he']\n",
    "\n",
    "# create df for it language\n",
    "it_lang = df[df['lang'] == 'it']\n",
    "\n",
    "# create df for no language\n",
    "no_lang = df[df['lang'] == 'no']\n",
    "\n",
    "# create df for ee language\n",
    "ee_lang = df[df['lang'] == 'ee']\n",
    "\n",
    "# create df for fi language\n",
    "fi_lang = df[df['lang'] == 'fi']\n",
    "\n",
    "# create df for ge language\n",
    "ge_lang = df[df['lang'] == 'ge']\n",
    "\n",
    "# create df for en language\n",
    "en_lang = df[df['lang'] == 'en']\n",
    "\n",
    "# create df for ru language\n",
    "ru_lang = df[df['lang'] == 'ru']\n",
    "\n",
    "# create df for sp language\n",
    "sp_lang = df[df['lang'] == 'sp']\n",
    "\n",
    "# create df for tr language\n",
    "tr_lang = df[df['lang'] == 'tr']\n",
    "\n",
    "# create a list of language dfs\n",
    "lang_list = [du_lang,\n",
    "             gr_lang,\n",
    "             he_lang,\n",
    "             it_lang,\n",
    "             no_lang,\n",
    "             ee_lang,\n",
    "             fi_lang,\n",
    "             ge_lang,\n",
    "             en_lang,\n",
    "             ru_lang,\n",
    "             sp_lang,\n",
    "             tr_lang]\n",
    "\n",
    "# print the list of lang vars\n",
    "print(f'Total language dataframes: {len(lang_list)}')\n"
   ]
  },
  {
   "attachments": {},
   "cell_type": "markdown",
   "metadata": {},
   "source": [
    "### Categorize participants per language"
   ]
  },
  {
   "cell_type": "code",
   "execution_count": 43,
   "metadata": {},
   "outputs": [
    {
     "name": "stdout",
     "output_type": "stream",
     "text": [
      "There are 44 participants in ['du'] dataset\n",
      "There are 24 participants in ['gr'] dataset\n",
      "There are 40 participants in ['he'] dataset\n",
      "There are 44 participants in ['it'] dataset\n",
      "There are 28 participants in ['no'] dataset\n",
      "There are 54 participants in ['ee'] dataset\n",
      "There are 47 participants in ['fi'] dataset\n",
      "There are 39 participants in ['ge'] dataset\n",
      "There are 40 participants in ['en'] dataset\n",
      "There are 41 participants in ['ru'] dataset\n",
      "There are 34 participants in ['sp'] dataset\n",
      "There are 15 participants in ['tr'] dataset\n"
     ]
    }
   ],
   "source": [
    "for language in lang_list:\n",
    "    # participant count\n",
    "    participant_count = language.uniform_id.unique()\n",
    "\n",
    "    # participant lang\n",
    "    participant_lang = language.lang.unique()\n",
    "    \n",
    "    # show the lenght of the participant list\n",
    "    print(f'There are {len(participant_count)} participants in {participant_lang} dataset')"
   ]
  },
  {
   "attachments": {},
   "cell_type": "markdown",
   "metadata": {},
   "source": [
    "### Categorize PoS per language"
   ]
  },
  {
   "cell_type": "code",
   "execution_count": 44,
   "metadata": {},
   "outputs": [
    {
     "name": "stdout",
     "output_type": "stream",
     "text": [
      "There are 31 PoS in ['du'] dataset\n",
      "There are 31 PoS in ['gr'] dataset\n",
      "There are 31 PoS in ['he'] dataset\n",
      "There are 31 PoS in ['it'] dataset\n",
      "There are 31 PoS in ['no'] dataset\n",
      "There are 31 PoS in ['ee'] dataset\n",
      "There are 31 PoS in ['fi'] dataset\n",
      "There are 31 PoS in ['ge'] dataset\n",
      "There are 31 PoS in ['en'] dataset\n",
      "There are 31 PoS in ['ru'] dataset\n",
      "There are 31 PoS in ['sp'] dataset\n",
      "There are 31 PoS in ['tr'] dataset\n"
     ]
    }
   ],
   "source": [
    "for language in lang_list:\n",
    "    # pos count\n",
    "    pos_count = language.PoS.unique()\n",
    "    \n",
    "    # participant lang\n",
    "    participant_lang = language.lang.unique()\n",
    "    \n",
    "    # show the lenght of the participant list\n",
    "    print(f'There are {len(pos_count)} PoS in {participant_lang} dataset')\n"
   ]
  },
  {
   "attachments": {},
   "cell_type": "markdown",
   "metadata": {},
   "source": [
    "### Create Pos Data for each language"
   ]
  },
  {
   "cell_type": "code",
   "execution_count": 95,
   "metadata": {},
   "outputs": [],
   "source": [
    "language_pos_data = {}\n",
    "for language in lang_list:\n",
    "    pos_data = {}\n",
    "    # pos count\n",
    "    pos_count = language.PoS.unique()\n",
    "\n",
    "    # language of dataframe\n",
    "    participant_lang = language.lang.unique()[0]\n",
    "    \n",
    "    # show the lenght of the participant list\n",
    "    #print(f'There are {len(pos_count)} PoS in {participant_lang} dataset')\n",
    "\n",
    "    for pos in pos_count:\n",
    "        # calculate the mean of the duration value for each PoS \n",
    "        pos_duration = language.loc[language['PoS'] == pos, 'dur'].mean()\n",
    "\n",
    "        #print(f' --> Mean value for the {pos} is {pos_duration} in {participant_lang} language')\n",
    "\n",
    "        # Add the mean value of each PoS to pos_data dictionary \n",
    "        pos_data[pos] = pos_duration\n",
    "    \n",
    "    # Add language data to dictionary\n",
    "    language_pos_data[participant_lang] = dict(sorted(pos_data.items()))\n",
    "\n",
    "    \n"
   ]
  },
  {
   "attachments": {},
   "cell_type": "markdown",
   "metadata": {},
   "source": [
    "### test"
   ]
  },
  {
   "cell_type": "code",
   "execution_count": null,
   "metadata": {},
   "outputs": [],
   "source": [
    "pos_data_per_language = {}\n",
    "pos_count_var =  list(language_pos_data['du'].keys())\n",
    "for pos in pos_count_var:\n",
    "    language_data = {}\n",
    "    for language in lang_list:\n",
    "        pos_duration = language.loc[language['PoS'] == pos, 'dur'].mean()\n",
    "        language_data[language] = pos_duration\n",
    "\n"
   ]
  },
  {
   "attachments": {},
   "cell_type": "markdown",
   "metadata": {},
   "source": [
    "# Graphs"
   ]
  },
  {
   "attachments": {},
   "cell_type": "markdown",
   "metadata": {},
   "source": [
    "### PoS data per language"
   ]
  },
  {
   "cell_type": "code",
   "execution_count": 97,
   "metadata": {},
   "outputs": [],
   "source": [
    "# for language in language_pos_data:\n",
    "#     fig, ax = plt.subplots()\n",
    "#     fruits = list(language_pos_data[language].keys())\n",
    "#     counts = list(language_pos_data[language].values())\n",
    "#     bar_labels = list(language_pos_data[language].keys())\n",
    "#     ax.bar(fruits, counts, label=bar_labels)\n",
    "#     ax.set_ylabel('duration')\n",
    "#     ax.set_title(f'Mean of durations per PoS value in {language} language')\n",
    "#     fig.autofmt_xdate()\n",
    "#     fig.set_size_inches(14,6)\n",
    "#     plt.show()"
   ]
  },
  {
   "attachments": {},
   "cell_type": "markdown",
   "metadata": {},
   "source": [
    "### Language data per PoS"
   ]
  },
  {
   "cell_type": "code",
   "execution_count": null,
   "metadata": {},
   "outputs": [],
   "source": [
    "\n",
    "        \n",
    "\n"
   ]
  }
 ],
 "metadata": {
  "kernelspec": {
   "display_name": "Python 3",
   "language": "python",
   "name": "python3"
  },
  "language_info": {
   "codemirror_mode": {
    "name": "ipython",
    "version": 3
   },
   "file_extension": ".py",
   "mimetype": "text/x-python",
   "name": "python",
   "nbconvert_exporter": "python",
   "pygments_lexer": "ipython3",
   "version": "3.11.3"
  },
  "orig_nbformat": 4
 },
 "nbformat": 4,
 "nbformat_minor": 2
}
